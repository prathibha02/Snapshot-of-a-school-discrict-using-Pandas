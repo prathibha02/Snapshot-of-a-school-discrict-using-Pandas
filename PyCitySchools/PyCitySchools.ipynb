{
 "cells": [
  {
   "cell_type": "code",
   "execution_count": 11,
   "metadata": {},
   "outputs": [
    {
     "data": {
      "text/html": [
       "<div>\n",
       "<style scoped>\n",
       "    .dataframe tbody tr th:only-of-type {\n",
       "        vertical-align: middle;\n",
       "    }\n",
       "\n",
       "    .dataframe tbody tr th {\n",
       "        vertical-align: top;\n",
       "    }\n",
       "\n",
       "    .dataframe thead th {\n",
       "        text-align: right;\n",
       "    }\n",
       "</style>\n",
       "<table border=\"1\" class=\"dataframe\">\n",
       "  <thead>\n",
       "    <tr style=\"text-align: right;\">\n",
       "      <th></th>\n",
       "      <th>Total number of schools</th>\n",
       "      <th>Total number of students</th>\n",
       "      <th>Total Budget</th>\n",
       "      <th>Average Reading Score</th>\n",
       "      <th>Average Math Score</th>\n",
       "      <th>Passing percentage for Reading</th>\n",
       "      <th>Passing percentage for Math</th>\n",
       "      <th>Percentage of students who passed both in Reading and Math</th>\n",
       "    </tr>\n",
       "  </thead>\n",
       "  <tbody>\n",
       "    <tr>\n",
       "      <th>0</th>\n",
       "      <td>15</td>\n",
       "      <td>39170</td>\n",
       "      <td>$24,649,428.00</td>\n",
       "      <td>81.88</td>\n",
       "      <td>78.99</td>\n",
       "      <td>85.805%</td>\n",
       "      <td>74.981%</td>\n",
       "      <td>65.172%</td>\n",
       "    </tr>\n",
       "  </tbody>\n",
       "</table>\n",
       "</div>"
      ],
      "text/plain": [
       "   Total number of schools  Total number of students    Total Budget  \\\n",
       "0                       15                     39170  $24,649,428.00   \n",
       "\n",
       "  Average Reading Score  Average Math Score Passing percentage for Reading  \\\n",
       "0                  81.88              78.99                        85.805%   \n",
       "\n",
       "  Passing percentage for Math  \\\n",
       "0                     74.981%   \n",
       "\n",
       "  Percentage of students who passed both in Reading and Math  \n",
       "0                                            65.172%          "
      ]
     },
     "execution_count": 11,
     "metadata": {},
     "output_type": "execute_result"
    }
   ],
   "source": [
    "# Dependencies and Setup\n",
    "import pandas as pd\n",
    "\n",
    "# File to Load (Remember to Change These)\n",
    "school_data_to_load = \"Resources/schools_complete.csv\"\n",
    "student_data_to_load = \"Resources/students_complete.csv\"\n",
    "\n",
    "# Read School and Student Data File and store into Pandas DataFrames\n",
    "school_data = pd.read_csv(school_data_to_load)\n",
    "student_data = pd.read_csv(student_data_to_load)\n",
    "\n",
    "# Count the total number of schools\n",
    "total_schools = school_data[\"School ID\"].count()\n",
    "\n",
    "# Count the total number of students\n",
    "total_students = student_data[\"Student ID\"].count()\n",
    "\n",
    "# Add the budget for each school and convert the sum in a currency format\n",
    "total_budget = school_data[\"budget\"].sum()\n",
    "total_budget_currency =  \"${:,.2f}\".format(total_budget)\n",
    "\n",
    "# Calculate the average reading score and format it\n",
    "average_reading_score = (student_data[\"reading_score\"].sum()) / total_students\n",
    "average_reading_score_formatted =  \"{:.2f}\".format(average_reading_score)\n",
    "\n",
    "# Calculate the average math score and format it\n",
    "average_math_score = (student_data[\"math_score\"].sum()) / total_students\n",
    "average_math_score_formatted =  \"{:.2f}\".format(average_math_score)\n",
    "\n",
    "# Calculate the percent of students who passed in Readimg test and format it\n",
    "passing_score_reading_df = student_data.loc[student_data[\"reading_score\"] >= 70,[\"Student ID\",\"reading_score\"]]\n",
    "passing_score_reading_count = passing_score_reading_df[\"Student ID\"].count()\n",
    "percent_pass_reading_score = (passing_score_reading_count / total_students) * 100\n",
    "percent_pass_reading_format = \"{:.3f}%\".format(percent_pass_reading_score)\n",
    "\n",
    "\n",
    "# Calculate the percent of students who passed in Math test and format it\n",
    "passing_score_math_df = student_data.loc[student_data[\"math_score\"] >= 70,[\"Student ID\",\"math_score\"]]\n",
    "passing_score_math_count = passing_score_math_df[\"Student ID\"].count()\n",
    "percent_pass_math_score = (passing_score_math_count / total_students) * 100\n",
    "percent_pass_math_format =  \"{:.3f}%\".format(percent_pass_math_score)\n",
    "\n",
    "# Calculate the students who passed in both reading and math by making an inner join of \n",
    "# students who passed reading and students who passed math\n",
    "overall_pass_df = pd.merge(passing_score_reading_df,passing_score_math_df, on = [\"Student ID\"])\n",
    "overall_pass_percentage = overall_pass_df[\"Student ID\"].count() / total_students * 100\n",
    "\n",
    "# Format the results\n",
    "overall_pass_format = \"{:.3f}%\".format(overall_pass_percentage)\n",
    "\n",
    "# Put all the results in a dataframe called District Summary\n",
    "district_summary_df = pd.DataFrame([ {\"Total number of schools\": total_schools,\n",
    "                                      \"Total number of students\": total_students,\n",
    "                                      \"Total Budget\": total_budget_currency,                                    \n",
    "                                      \"Average Reading Score \": average_reading_score_formatted,     \n",
    "                                      \"Average Math Score\" : average_math_score_formatted,\n",
    "                                      \"Passing percentage for Reading\": percent_pass_reading_format,  \n",
    "                                      \"Passing percentage for Math\": percent_pass_math_format,\n",
    "                                      \"Percentage of students who passed both in Reading and Math\": overall_pass_format}                                                                      \n",
    "                                   ])\n",
    "\n",
    "# Print the District Summery to the terminal\n",
    "district_summary_df"
   ]
  },
  {
   "cell_type": "code",
   "execution_count": null,
   "metadata": {
    "scrolled": true
   },
   "outputs": [],
   "source": [
    "# Combine the data into a single dataset.  \n",
    "school_data_complete = pd.merge(student_data, school_data, how=\"left\", on=[\"school_name\", \"school_name\"])\n",
    "school_data_complete.tail()"
   ]
  },
  {
   "cell_type": "code",
   "execution_count": null,
   "metadata": {},
   "outputs": [],
   "source": []
  },
  {
   "cell_type": "markdown",
   "metadata": {},
   "source": [
    "## School Summary"
   ]
  },
  {
   "cell_type": "markdown",
   "metadata": {},
   "source": [
    "* Create an overview table that summarizes key metrics about each school, including:\n",
    "  * School Name\n",
    "  * School Type\n",
    "  * Total Students\n",
    "  * Total School Budget\n",
    "  * Per Student Budget\n",
    "  * Average Math Score\n",
    "  * Average Reading Score\n",
    "  * % Passing Math\n",
    "  * % Passing Reading\n",
    "  * % Overall Passing (The percentage of students that passed math **and** reading.)\n",
    "  \n",
    "* Create a dataframe to hold the above results"
   ]
  },
  {
   "cell_type": "code",
   "execution_count": null,
   "metadata": {},
   "outputs": [],
   "source": []
  },
  {
   "cell_type": "markdown",
   "metadata": {},
   "source": [
    "## Top Performing Schools (By % Overall Passing)"
   ]
  },
  {
   "cell_type": "markdown",
   "metadata": {},
   "source": [
    "* Sort and display the top five performing schools by % overall passing."
   ]
  },
  {
   "cell_type": "code",
   "execution_count": null,
   "metadata": {
    "scrolled": true
   },
   "outputs": [],
   "source": []
  },
  {
   "cell_type": "markdown",
   "metadata": {},
   "source": [
    "## Bottom Performing Schools (By % Overall Passing)"
   ]
  },
  {
   "cell_type": "markdown",
   "metadata": {},
   "source": [
    "* Sort and display the five worst-performing schools by % overall passing."
   ]
  },
  {
   "cell_type": "code",
   "execution_count": null,
   "metadata": {},
   "outputs": [],
   "source": []
  },
  {
   "cell_type": "markdown",
   "metadata": {
    "collapsed": true
   },
   "source": [
    "## Math Scores by Grade"
   ]
  },
  {
   "cell_type": "markdown",
   "metadata": {},
   "source": [
    "* Create a table that lists the average Reading Score for students of each grade level (9th, 10th, 11th, 12th) at each school.\n",
    "\n",
    "  * Create a pandas series for each grade. Hint: use a conditional statement.\n",
    "  \n",
    "  * Group each series by school\n",
    "  \n",
    "  * Combine the series into a dataframe\n",
    "  \n",
    "  * Optional: give the displayed data cleaner formatting"
   ]
  },
  {
   "cell_type": "code",
   "execution_count": null,
   "metadata": {},
   "outputs": [],
   "source": []
  },
  {
   "cell_type": "markdown",
   "metadata": {},
   "source": [
    "## Reading Score by Grade "
   ]
  },
  {
   "cell_type": "markdown",
   "metadata": {},
   "source": [
    "* Perform the same operations as above for reading scores"
   ]
  },
  {
   "cell_type": "code",
   "execution_count": null,
   "metadata": {},
   "outputs": [],
   "source": []
  },
  {
   "cell_type": "markdown",
   "metadata": {},
   "source": [
    "## Scores by School Spending"
   ]
  },
  {
   "cell_type": "markdown",
   "metadata": {},
   "source": [
    "* Create a table that breaks down school performances based on average Spending Ranges (Per Student). Use 4 reasonable bins to group school spending. Include in the table each of the following:\n",
    "  * Average Math Score\n",
    "  * Average Reading Score\n",
    "  * % Passing Math\n",
    "  * % Passing Reading\n",
    "  * Overall Passing Rate (Average of the above two)"
   ]
  },
  {
   "cell_type": "code",
   "execution_count": null,
   "metadata": {},
   "outputs": [],
   "source": []
  },
  {
   "cell_type": "markdown",
   "metadata": {},
   "source": [
    "## Scores by School Size"
   ]
  },
  {
   "cell_type": "markdown",
   "metadata": {},
   "source": [
    "* Perform the same operations as above, based on school size."
   ]
  },
  {
   "cell_type": "code",
   "execution_count": null,
   "metadata": {
    "scrolled": true
   },
   "outputs": [],
   "source": []
  },
  {
   "cell_type": "markdown",
   "metadata": {},
   "source": [
    "## Scores by School Type"
   ]
  },
  {
   "cell_type": "markdown",
   "metadata": {},
   "source": [
    "* Perform the same operations as above, based on school type"
   ]
  },
  {
   "cell_type": "code",
   "execution_count": null,
   "metadata": {},
   "outputs": [],
   "source": []
  },
  {
   "cell_type": "code",
   "execution_count": null,
   "metadata": {},
   "outputs": [],
   "source": []
  }
 ],
 "metadata": {
  "anaconda-cloud": {},
  "kernel_info": {
   "name": "python3"
  },
  "kernelspec": {
   "display_name": "Python 3 (ipykernel)",
   "language": "python",
   "name": "python3"
  },
  "language_info": {
   "codemirror_mode": {
    "name": "ipython",
    "version": 3
   },
   "file_extension": ".py",
   "mimetype": "text/x-python",
   "name": "python",
   "nbconvert_exporter": "python",
   "pygments_lexer": "ipython3",
   "version": "3.9.12"
  },
  "latex_envs": {
   "LaTeX_envs_menu_present": true,
   "autoclose": false,
   "autocomplete": true,
   "bibliofile": "biblio.bib",
   "cite_by": "apalike",
   "current_citInitial": 1,
   "eqLabelWithNumbers": true,
   "eqNumInitial": 1,
   "hotkeys": {
    "equation": "Ctrl-E",
    "itemize": "Ctrl-I"
   },
   "labels_anchors": false,
   "latex_user_defs": false,
   "report_style_numbering": false,
   "user_envs_cfg": false
  },
  "nteract": {
   "version": "0.8.4"
  }
 },
 "nbformat": 4,
 "nbformat_minor": 1
}
